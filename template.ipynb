{
  "cells": [
    {
      "cell_type": "raw",
      "metadata": {},
      "source": [
        "---\n",
        "title: 'Lab 3: Depth-Damage Models'\n",
        "subtitle: DataFrames and Distributions\n",
        "author: Jonathan Gan wg18\n",
        "date: '2024-01-26'\n",
        "week: 3\n",
        "categories:\n",
        "  - Lab\n",
        "format:\n",
        "  html:\n",
        "    theme: spacelab\n",
        "    copy-code: true\n",
        "    code-overflow: wrap\n",
        "    toc: true\n",
        "    anchor-sections: true\n",
        "    callout-appearance: simple\n",
        "    reference-location: document\n",
        "    citations-hover: true\n",
        "    code-annotations: hover\n",
        "    code-line-numbers: true\n",
        "    html-math-method: katex\n",
        "  pdf:\n",
        "    documentclass: article\n",
        "    fontsize: 11pt\n",
        "    geometry:\n",
        "      - margin=1in\n",
        "    number-sections: true\n",
        "    code-line-numbers: true\n",
        "date-format: 'ddd., MMM. D'\n",
        "---"
      ],
      "id": "d541d1a1"
    },
    {
      "cell_type": "code",
      "metadata": {},
      "source": [
        "using CSV\n",
        "using DataFrames\n",
        "using DataFramesMeta\n",
        "using Distributions\n",
        "using Interpolations\n",
        "using Plots\n",
        "using StatsPlots\n",
        "using Unitful\n",
        "\n",
        "Plots.default(; margin=6Plots.mm)"
      ],
      "id": "0c405f3c",
      "execution_count": null,
      "outputs": []
    },
    {
      "cell_type": "markdown",
      "metadata": {},
      "source": [
        "# Site information\n"
      ],
      "id": "74891b5c"
    },
    {
      "cell_type": "code",
      "metadata": {},
      "source": [
        "haz_fl_dept = CSV.read(\"data/haz_fl_dept.csv\", DataFrame)\n",
        "first(haz_fl_dept, 3) # <1>"
      ],
      "id": "e7e09697",
      "execution_count": null,
      "outputs": []
    },
    {
      "cell_type": "markdown",
      "metadata": {},
      "source": [
        "# Depth-Damage\n",
        "\n",
        "# Expected annual damages\n",
        "\n",
        "# Discussion"
      ],
      "id": "dc304384"
    }
  ],
  "metadata": {
    "kernelspec": {
      "name": "julia-1.10",
      "language": "julia",
      "display_name": "Julia 1.10.0"
    }
  },
  "nbformat": 4,
  "nbformat_minor": 5
}